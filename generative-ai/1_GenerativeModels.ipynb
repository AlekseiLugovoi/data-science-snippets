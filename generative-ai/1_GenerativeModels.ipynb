{
 "cells": [
  {
   "cell_type": "markdown",
   "id": "2dd4b7af-4bb4-4a40-b288-32dd72162db2",
   "metadata": {},
   "source": [
    "# ML Models Categories"
   ]
  },
  {
   "cell_type": "markdown",
   "id": "22250dc9-af5f-4980-b017-2033de1fbb9f",
   "metadata": {
    "jp-MarkdownHeadingCollapsed": true
   },
   "source": [
    "## Hierarchy"
   ]
  },
  {
   "cell_type": "markdown",
   "id": "3f78373c-ff33-4990-93a1-ebdef268e906",
   "metadata": {},
   "source": [
    "![https://www.linkedin.com/pulse/how-does-ai-ml-dl-gi-fit-together-anang-b-singh/](content/img1001_MLHierarchy.png \"MLHierarchy\")"
   ]
  },
  {
   "cell_type": "code",
   "execution_count": null,
   "id": "3ea136f9-d5eb-45b2-a508-7248cb36bb5b",
   "metadata": {},
   "outputs": [],
   "source": []
  },
  {
   "cell_type": "markdown",
   "id": "c4663159-6ddb-45dd-9b02-19a13529ae88",
   "metadata": {
    "jp-MarkdownHeadingCollapsed": true
   },
   "source": [
    "### AI = IFs"
   ]
  },
  {
   "cell_type": "markdown",
   "id": "6fa813e0-8568-49b9-9a26-28d9d07439f0",
   "metadata": {},
   "source": [
    "![https://www.reddit.com/r/ProgrammerHumor/comments/15t7vie/youknowitstrue/](content/img1011_AImeme.jpg \"AImeme\")"
   ]
  },
  {
   "cell_type": "code",
   "execution_count": null,
   "id": "59454f2a-d084-4eda-916b-84b483aa9ce1",
   "metadata": {},
   "outputs": [],
   "source": []
  },
  {
   "cell_type": "code",
   "execution_count": null,
   "id": "bc749500-0a86-4c6e-a144-9058daf487c6",
   "metadata": {},
   "outputs": [],
   "source": []
  },
  {
   "cell_type": "code",
   "execution_count": null,
   "id": "4df2afe5-227f-4776-9c80-1575bf0a8bac",
   "metadata": {},
   "outputs": [],
   "source": []
  },
  {
   "cell_type": "code",
   "execution_count": null,
   "id": "ed43fbc4-1769-4a0a-af08-932146ec9ff8",
   "metadata": {},
   "outputs": [],
   "source": []
  },
  {
   "cell_type": "markdown",
   "id": "a544a3e5-3a4c-4781-a85f-e76af82a4c37",
   "metadata": {},
   "source": [
    "## Supervised Learning\n",
    "\n",
    "- Training with labeled data to predict outcomes based on learned relationships between input features and given labels"
   ]
  },
  {
   "cell_type": "markdown",
   "id": "16128bc0-f7b9-46b9-8888-ff98e8bedf3c",
   "metadata": {},
   "source": [
    "**Discriminative Models**: Direct prediction of labels based on input data.\n",
    "- **Examples**: Logistic Regression, Support Vector Machines (SVM), Catboost"
   ]
  },
  {
   "cell_type": "markdown",
   "id": "fd950f98-a5e4-458e-a6b0-20558686e862",
   "metadata": {},
   "source": [
    "**Generative Models**: Modeling the distributions of data to generate new, similar instances.\n",
    "- **Examples**: Generative Adversarial Networks (GANs), Variational Autoencoders (VAEs)."
   ]
  },
  {
   "cell_type": "markdown",
   "id": "088b2ff9-4c90-4a7b-98bb-2acbbe341b69",
   "metadata": {},
   "source": [
    "![https://medium.com/ai-made-simple/generative-vs-discriminative-models-35b81f677822](content/img1002_DvsG.webp \"DvsG\")"
   ]
  },
  {
   "cell_type": "code",
   "execution_count": null,
   "id": "1f9d0345-47e4-40a1-b810-f677e74d0300",
   "metadata": {},
   "outputs": [],
   "source": []
  },
  {
   "cell_type": "markdown",
   "id": "e2f3dc93-65e3-48d9-bd74-dda6bc0b366c",
   "metadata": {},
   "source": [
    "### Generative Models CV"
   ]
  },
  {
   "cell_type": "markdown",
   "id": "f0cecb57-9825-490d-bc70-b75da20bf8eb",
   "metadata": {},
   "source": [
    "| Date  | Technology                            |\n",
    "|------|---------------------------------------|\n",
    "| 2013 | VAE (Variational Autoencoders)        |\n",
    "| 2014 | GAN (Generative Adversarial Networks) |\n",
    "| 2015 | Flow-based models                     |\n",
    "| ~2019 | Diffusion models                     |"
   ]
  },
  {
   "cell_type": "code",
   "execution_count": null,
   "id": "7ee4cfe1-22c8-4bcb-9053-71633e97aa7b",
   "metadata": {},
   "outputs": [],
   "source": []
  },
  {
   "cell_type": "markdown",
   "id": "2ec978c7-a0a9-46e9-b57f-7e985ca3ce8b",
   "metadata": {},
   "source": [
    "![https://questforai.wordpress.com/category/deeplearning/](content/img1012_Comp1.png \"Comp1\")"
   ]
  },
  {
   "cell_type": "code",
   "execution_count": null,
   "id": "807eea8e-5871-4536-9582-c1b162e1aba1",
   "metadata": {},
   "outputs": [],
   "source": []
  },
  {
   "cell_type": "markdown",
   "id": "912f4c3d-f011-47c3-ae26-949968c03556",
   "metadata": {},
   "source": [
    "![https://lilianweng.github.io/posts/2021-07-11-diffusion-models/](content/img1013_Comp2.png \"Comp2\")"
   ]
  },
  {
   "cell_type": "code",
   "execution_count": null,
   "id": "50f79237-f5fb-4a45-ba92-94611ee9e78e",
   "metadata": {},
   "outputs": [],
   "source": []
  },
  {
   "cell_type": "code",
   "execution_count": null,
   "id": "4a1d5893-1287-4dcf-b149-5325a88331d3",
   "metadata": {},
   "outputs": [],
   "source": []
  },
  {
   "cell_type": "code",
   "execution_count": null,
   "id": "584c2fb5-f764-457d-be1c-2ac1005308a5",
   "metadata": {},
   "outputs": [],
   "source": []
  },
  {
   "cell_type": "markdown",
   "id": "328c8f9e-a718-4d90-ba08-4aac55bfae2b",
   "metadata": {
    "jp-MarkdownHeadingCollapsed": true
   },
   "source": [
    "## Unsupervised Learning\n",
    "\n",
    "- Analyzing unlabeled data to discover hidden patterns or intrinsic structures without predefined labels or outcomes."
   ]
  },
  {
   "cell_type": "markdown",
   "id": "7709a74e-3b28-430d-85e1-fea6b2fb59bd",
   "metadata": {},
   "source": [
    "**Clustering**: Grouping similar data without predefined labels.\n",
    "- **Examples**: K-means, DBSCAN, Hierarchical Clustering."
   ]
  },
  {
   "cell_type": "markdown",
   "id": "b151069c-b5dc-45b0-9177-8b5ca5afb136",
   "metadata": {},
   "source": [
    "**Dimensionality Reduction**: Reducing the number of features while retaining important information.\n",
    "- **Examples**: Principal Component Analysis (PCA), t-Distributed Stochastic Neighbor Embedding (t-SNE), UMAP"
   ]
  },
  {
   "cell_type": "markdown",
   "id": "42133019-a95c-4cca-8adf-e168559dd28b",
   "metadata": {},
   "source": [
    "![https://medium.com/@manutej/a-non-technical-introduction-to-ai-part-1-a53471fae2fe](content/img1003_CvDR.webp \"CvDR\")"
   ]
  },
  {
   "cell_type": "code",
   "execution_count": null,
   "id": "b30b4a0e-ed39-44bf-b28f-7053cc94ae24",
   "metadata": {},
   "outputs": [],
   "source": []
  },
  {
   "cell_type": "markdown",
   "id": "af286a9d-4ec7-47e2-a82b-7613d2313147",
   "metadata": {
    "jp-MarkdownHeadingCollapsed": true
   },
   "source": [
    "## Semi-Supervised Learning\n",
    "\n",
    "- Uses a combination of labeled and unlabeled data to enhance learning"
   ]
  },
  {
   "cell_type": "markdown",
   "id": "d1c34515-5dfd-4f15-ab5c-0f150349f94b",
   "metadata": {},
   "source": [
    "**Examples**: Pseudo-labeling, Transductive SVM, Label Propagation"
   ]
  },
  {
   "cell_type": "markdown",
   "id": "d0fd9720-2e8d-493c-80a0-c3d3e774498c",
   "metadata": {},
   "source": [
    "![https://medium.com/@gayatri_sharma/a-gentle-introduction-to-semi-supervised-learning-7afa5539beea](content/img1004_SSL.webp \"SSL\")"
   ]
  },
  {
   "cell_type": "code",
   "execution_count": null,
   "id": "f1b4df9b-d3ee-4557-9e07-9a04bfc46f31",
   "metadata": {},
   "outputs": [],
   "source": []
  },
  {
   "cell_type": "markdown",
   "id": "2a3a0bdc-91e2-4c8c-9ae1-99ad556f1e84",
   "metadata": {
    "jp-MarkdownHeadingCollapsed": true
   },
   "source": [
    "## Reinforcement Learning\n",
    "\n",
    "- Learning a series of decisions to maximize cumulative reward."
   ]
  },
  {
   "cell_type": "markdown",
   "id": "b018de4c-d6c0-4737-8624-514bf9485f3e",
   "metadata": {},
   "source": [
    "**Examples**: Q-learning, Deep Q Networks (DQN), Policy Gradient Methods."
   ]
  },
  {
   "cell_type": "markdown",
   "id": "78a17cb0-e5f9-4770-9819-0cb7f27073ca",
   "metadata": {},
   "source": [
    "![https://medium.com/analytics-vidhya/basic-terminology-reinforcement-learning-2357fd5f0e51](content/img1005_RL.webp \"RL\")"
   ]
  },
  {
   "cell_type": "code",
   "execution_count": null,
   "id": "1a4de7bd-389e-4e05-944e-d08d4e5251f4",
   "metadata": {},
   "outputs": [],
   "source": []
  },
  {
   "cell_type": "markdown",
   "id": "51438d64-7a8f-45bb-bd55-9d92b1a432f8",
   "metadata": {},
   "source": [
    "# END"
   ]
  },
  {
   "cell_type": "code",
   "execution_count": null,
   "id": "acfab7e9-939d-40fb-8eae-eadc92eb1788",
   "metadata": {},
   "outputs": [],
   "source": []
  },
  {
   "cell_type": "code",
   "execution_count": null,
   "id": "5ead86c4-00dd-4c76-ba2e-8085b380d0d4",
   "metadata": {},
   "outputs": [],
   "source": []
  },
  {
   "cell_type": "code",
   "execution_count": null,
   "id": "098f1ddc-ea21-4945-a829-254bc0355e8c",
   "metadata": {},
   "outputs": [],
   "source": []
  },
  {
   "cell_type": "code",
   "execution_count": null,
   "id": "1f6e0749-9f29-4a5d-9433-bbebedda6b10",
   "metadata": {},
   "outputs": [],
   "source": []
  },
  {
   "cell_type": "code",
   "execution_count": null,
   "id": "b5d72698-e028-4290-92c7-b9f605224605",
   "metadata": {},
   "outputs": [],
   "source": []
  }
 ],
 "metadata": {
  "kernelspec": {
   "display_name": "a.lugovoi.py310",
   "language": "python",
   "name": "a.lugovoi.py310"
  },
  "language_info": {
   "codemirror_mode": {
    "name": "ipython",
    "version": 3
   },
   "file_extension": ".py",
   "mimetype": "text/x-python",
   "name": "python",
   "nbconvert_exporter": "python",
   "pygments_lexer": "ipython3",
   "version": "3.10.13"
  }
 },
 "nbformat": 4,
 "nbformat_minor": 5
}
