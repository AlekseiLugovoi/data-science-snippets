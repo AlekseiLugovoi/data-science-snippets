{
 "cells": [
  {
   "cell_type": "markdown",
   "id": "d98bf69a-2261-4d8e-8962-93743745158b",
   "metadata": {},
   "source": [
    "# Generative Adversarial Networks (GAN, 2014)"
   ]
  },
  {
   "cell_type": "markdown",
   "id": "9a65eb7c-8a55-4041-849c-0ef00f9a1cd2",
   "metadata": {},
   "source": [
    "## Idea"
   ]
  },
  {
   "cell_type": "markdown",
   "id": "31475e06-1c27-4d61-89b1-309095da0eab",
   "metadata": {},
   "source": [
    "**Main Idea**\n",
    "\n",
    "Generative Adversarial Networks (GANs) are algorithms where two neural networks, a generator and a discriminator, train in a competitive process to create and classify data."
   ]
  },
  {
   "cell_type": "markdown",
   "id": "1804263b-7d9a-47db-8426-a0f755be73ab",
   "metadata": {},
   "source": [
    "**Pros**\n",
    "\n",
    "- **Quality:** Produce realistic images and data\n",
    "- **Applicability:** Broad range of applications\n",
    "- **Style Transfer:** Effective in data modification and augmentation"
   ]
  },
  {
   "cell_type": "markdown",
   "id": "4546c454-e12f-4284-b3f3-784926e38853",
   "metadata": {},
   "source": [
    "**Cons**\n",
    "\n",
    "- **Training:** Training can be unstable and complex\n",
    "- **Data Requirements:** Need large and quality datasets\n",
    "- **Evaluation:** Challenging to assess the quality of generated data"
   ]
  },
  {
   "cell_type": "code",
   "execution_count": null,
   "id": "2e3f2a11-23b9-40b6-b049-b76549d77001",
   "metadata": {},
   "outputs": [],
   "source": []
  },
  {
   "cell_type": "markdown",
   "id": "d336b153-5721-4236-9543-e775cb7cdab7",
   "metadata": {},
   "source": [
    "## GAN Motivation"
   ]
  },
  {
   "cell_type": "markdown",
   "id": "3c10cae0-67a0-47ad-a739-9de214a58fdf",
   "metadata": {},
   "source": [
    "![https://towardsdatascience.com/intuitively-understanding-variational-autoencoders-1bfe67eb5daf](content/img3001_VAEtroubles.webp \"VAEtroubles\")"
   ]
  },
  {
   "cell_type": "code",
   "execution_count": null,
   "id": "4acc448b-402b-4076-9592-c561b421536e",
   "metadata": {},
   "outputs": [],
   "source": []
  },
  {
   "cell_type": "markdown",
   "id": "da805ed2-91ad-4f7a-95ec-6597795554cf",
   "metadata": {},
   "source": [
    "![local](content/img3002_MSEproblem.png \"MSEproblem\")"
   ]
  },
  {
   "cell_type": "code",
   "execution_count": null,
   "id": "b7ade8d5-c74b-411a-a918-cd338b6c0bf5",
   "metadata": {},
   "outputs": [],
   "source": []
  },
  {
   "cell_type": "markdown",
   "id": "03c03811-036b-4106-b060-921e6aa25453",
   "metadata": {},
   "source": [
    "## GAN architecture"
   ]
  },
  {
   "cell_type": "markdown",
   "id": "46ce3322-752a-4f82-9321-fe862c93dac0",
   "metadata": {},
   "source": [
    "![https://www.geeksforgeeks.org/generative-adversarial-network-gan/](content/img3003_GAN.jpg \"GAN\")"
   ]
  },
  {
   "cell_type": "code",
   "execution_count": null,
   "id": "c5dd2946-d68d-4e1b-a18f-3e2fc9477ba6",
   "metadata": {},
   "outputs": [],
   "source": []
  },
  {
   "cell_type": "code",
   "execution_count": null,
   "id": "82fded57-4968-4002-8e36-eb1a5582b102",
   "metadata": {},
   "outputs": [],
   "source": []
  },
  {
   "cell_type": "code",
   "execution_count": null,
   "id": "e6e246d4-a649-4ce4-b284-4b480c595259",
   "metadata": {},
   "outputs": [],
   "source": []
  },
  {
   "cell_type": "code",
   "execution_count": null,
   "id": "20b6d8c9-1895-400f-bbbc-b1d741682942",
   "metadata": {},
   "outputs": [],
   "source": []
  },
  {
   "cell_type": "code",
   "execution_count": null,
   "id": "65044ef6-010e-4a51-b761-3d271aafd856",
   "metadata": {},
   "outputs": [],
   "source": []
  },
  {
   "cell_type": "code",
   "execution_count": null,
   "id": "580eac78-44e7-4e85-bb90-12dd7aec9736",
   "metadata": {},
   "outputs": [],
   "source": []
  },
  {
   "cell_type": "markdown",
   "id": "534f4e8a-2ef3-41fa-814e-c1d7da850f97",
   "metadata": {},
   "source": [
    "## Projects"
   ]
  },
  {
   "cell_type": "markdown",
   "id": "b4af1db2-8422-4725-8c69-c3bbebdc71d1",
   "metadata": {},
   "source": [
    "- [**VAE-GAN**](https://github.com/rishabhd786/VAE-GAN-PYTORCH)\n",
    "- [**StyleGAN**](https://github.com/NVlabs/stylegan)\n",
    "- [**pix2pix**](https://github.com/phillipi/pix2pix)\n",
    "- **[**PyTorch-GAN**](https://github.com/eriklindernoren/PyTorch-GAN) - compilation**"
   ]
  },
  {
   "cell_type": "code",
   "execution_count": null,
   "id": "3fb17aa8-1441-4986-9640-064f8e261b40",
   "metadata": {},
   "outputs": [],
   "source": []
  },
  {
   "cell_type": "markdown",
   "id": "78a61265-9aac-4caa-bf44-e0a2bc2a5ffb",
   "metadata": {},
   "source": [
    "# Links"
   ]
  },
  {
   "cell_type": "markdown",
   "id": "9e18e79c-21ad-4156-aace-980d59bbfa09",
   "metadata": {},
   "source": [
    "- https://this-person-does-not-exist.com/en\n",
    "- https://www.youtube.com/watch?v=_zyh1mzXDqQ&list=PLA0M1Bcd0w8yv0XGiF1wjerjSZVSrYbjh&index=32\n",
    "- https://www.youtube.com/watch?v=An20DOEOctc&list=PL0Ks75aof3Tiru-UvOvYmXzD1tU0NrR8V&index=60"
   ]
  },
  {
   "cell_type": "code",
   "execution_count": null,
   "id": "3ba0c00b-3cb9-4bdc-81d4-6613891cc5cf",
   "metadata": {},
   "outputs": [],
   "source": []
  },
  {
   "cell_type": "code",
   "execution_count": null,
   "id": "d46a68f8-56ba-476b-ac13-691e4493b418",
   "metadata": {},
   "outputs": [],
   "source": []
  },
  {
   "cell_type": "code",
   "execution_count": null,
   "id": "85f800be-cdef-416a-bdca-4c9a5fbd821c",
   "metadata": {},
   "outputs": [],
   "source": []
  },
  {
   "cell_type": "code",
   "execution_count": null,
   "id": "c6b3a920-37c8-4ae3-bdc7-0fb98afe22c2",
   "metadata": {},
   "outputs": [],
   "source": []
  },
  {
   "cell_type": "markdown",
   "id": "a2e9d656-34a7-4521-b578-531928d9ba5f",
   "metadata": {
    "jp-MarkdownHeadingCollapsed": true
   },
   "source": [
    "# END"
   ]
  },
  {
   "cell_type": "code",
   "execution_count": null,
   "id": "e31f99b5-4b8e-4b12-9c40-1a9c21298b5c",
   "metadata": {},
   "outputs": [],
   "source": []
  }
 ],
 "metadata": {
  "kernelspec": {
   "display_name": "a.lugovoi.py310",
   "language": "python",
   "name": "a.lugovoi.py310"
  },
  "language_info": {
   "codemirror_mode": {
    "name": "ipython",
    "version": 3
   },
   "file_extension": ".py",
   "mimetype": "text/x-python",
   "name": "python",
   "nbconvert_exporter": "python",
   "pygments_lexer": "ipython3",
   "version": "3.10.13"
  }
 },
 "nbformat": 4,
 "nbformat_minor": 5
}
