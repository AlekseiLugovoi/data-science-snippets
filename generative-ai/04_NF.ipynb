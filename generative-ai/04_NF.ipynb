{
 "cells": [
  {
   "cell_type": "markdown",
   "id": "ecf9dd27-8e8d-43c9-a78a-04b9b718bf80",
   "metadata": {},
   "source": [
    "# Normalizing flow (NF, 2015)"
   ]
  },
  {
   "cell_type": "markdown",
   "id": "60ae1fe7-55d8-42f2-9e57-23e871ca9718",
   "metadata": {},
   "source": [
    "## Idea"
   ]
  },
  {
   "cell_type": "markdown",
   "id": "e4b95f14-b4cf-40ef-b36e-e3d925856ef7",
   "metadata": {},
   "source": [
    "**Main Idea**\n",
    "\n",
    "Normalizing Flows (NF) transform a simple probability distribution into a complex one using a series of invertible transformations"
   ]
  },
  {
   "cell_type": "markdown",
   "id": "18d6414d-f509-4399-9f8c-60dd8049d700",
   "metadata": {},
   "source": [
    "**Pros**\n",
    "\n",
    "- **Exact likelihood estimation**\n",
    "- **Flexible and powerful**\n",
    "- **Invertibility**"
   ]
  },
  {
   "cell_type": "markdown",
   "id": "8efec96a-66e3-4ac5-be34-405b451efd9e",
   "metadata": {},
   "source": [
    "**Cons**\n",
    "\n",
    "- **Computationally intensive**\n",
    "- **Architectural complexity**\n",
    "- **Invertibility constraints**"
   ]
  },
  {
   "cell_type": "code",
   "execution_count": null,
   "id": "b4bc01be-fe47-4089-9567-9a31c147aa8a",
   "metadata": {},
   "outputs": [],
   "source": []
  },
  {
   "cell_type": "code",
   "execution_count": null,
   "id": "acdf01dd-d781-43ce-b7a0-d63f8ca2157f",
   "metadata": {},
   "outputs": [],
   "source": []
  },
  {
   "cell_type": "code",
   "execution_count": null,
   "id": "de5eb191-9532-40ac-9e9c-7e0ec169981f",
   "metadata": {},
   "outputs": [],
   "source": []
  },
  {
   "cell_type": "code",
   "execution_count": null,
   "id": "8f02d903-9469-4f9c-ae86-7dfdf6a73580",
   "metadata": {},
   "outputs": [],
   "source": []
  },
  {
   "cell_type": "code",
   "execution_count": null,
   "id": "06797094-c3ac-4ec5-8736-ae9e85ae4802",
   "metadata": {},
   "outputs": [],
   "source": []
  },
  {
   "cell_type": "code",
   "execution_count": null,
   "id": "12434a26-004e-4912-b797-f713ac916fae",
   "metadata": {},
   "outputs": [],
   "source": []
  },
  {
   "cell_type": "markdown",
   "id": "69903099-9bc3-4edf-8652-7dc5b886310f",
   "metadata": {},
   "source": [
    "## Projects"
   ]
  },
  {
   "cell_type": "markdown",
   "id": "82b410b5-973d-440d-bdf9-396e4afeeb03",
   "metadata": {},
   "source": [
    "- [**RealNVP**](https://github.com/chrischute/real-nvp)\n",
    "- **[**flow-based KERAS**](https://github.com/bojone/flow/tree/master) - compilation**"
   ]
  },
  {
   "cell_type": "code",
   "execution_count": null,
   "id": "a8a26139-7345-47e2-b3dc-9a4996c9ce59",
   "metadata": {},
   "outputs": [],
   "source": []
  },
  {
   "cell_type": "code",
   "execution_count": null,
   "id": "81a448a0-41de-4cbc-9428-81d43816acfe",
   "metadata": {},
   "outputs": [],
   "source": []
  },
  {
   "cell_type": "markdown",
   "id": "63e2c449-8331-4cd6-aa33-58e287638a0f",
   "metadata": {},
   "source": [
    "# Links"
   ]
  },
  {
   "cell_type": "markdown",
   "id": "c396a43d-ef41-47aa-bf6b-0c9fec117b3c",
   "metadata": {},
   "source": [
    "- https://lilianweng.github.io/posts/2018-10-13-flow-models/#types-of-generative-models"
   ]
  },
  {
   "cell_type": "code",
   "execution_count": null,
   "id": "4de655ae-4cf1-48ef-9583-3f3a7bc1ed71",
   "metadata": {},
   "outputs": [],
   "source": []
  },
  {
   "cell_type": "code",
   "execution_count": null,
   "id": "117aa5c9-ae58-45d6-9a04-a0b00cc155fe",
   "metadata": {},
   "outputs": [],
   "source": []
  },
  {
   "cell_type": "code",
   "execution_count": null,
   "id": "233a8065-b009-4a01-a120-1abf8df1797b",
   "metadata": {},
   "outputs": [],
   "source": []
  },
  {
   "cell_type": "markdown",
   "id": "16cfe13e-e325-4234-9381-29dd3d44e3af",
   "metadata": {},
   "source": [
    "# END"
   ]
  },
  {
   "cell_type": "code",
   "execution_count": null,
   "id": "fbc779ad-5cc6-4653-8a7c-d3468d2f0652",
   "metadata": {},
   "outputs": [],
   "source": []
  },
  {
   "cell_type": "code",
   "execution_count": null,
   "id": "0b824b4c-9cc5-4c51-985e-5fccacbe5e4c",
   "metadata": {},
   "outputs": [],
   "source": []
  }
 ],
 "metadata": {
  "kernelspec": {
   "display_name": "a.lugovoi.py310",
   "language": "python",
   "name": "a.lugovoi.py310"
  },
  "language_info": {
   "codemirror_mode": {
    "name": "ipython",
    "version": 3
   },
   "file_extension": ".py",
   "mimetype": "text/x-python",
   "name": "python",
   "nbconvert_exporter": "python",
   "pygments_lexer": "ipython3",
   "version": "3.10.13"
  }
 },
 "nbformat": 4,
 "nbformat_minor": 5
}
